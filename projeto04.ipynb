{
 "cells": [
  {
   "cell_type": "markdown",
   "id": "96188333-1330-4657-81ef-e34843c16321",
   "metadata": {},
   "source": [
    "# Projeto 3 - Análise de Sentimentos\n",
    "Data Science Academy"
   ]
  },
  {
   "cell_type": "code",
   "execution_count": 1,
   "id": "d8ad30c6-4a39-41ac-88be-fe17b0fb5a59",
   "metadata": {},
   "outputs": [
    {
     "name": "stdout",
     "output_type": "stream",
     "text": [
      "Versão da Linguagem Python Usada Neste Jupyter Notebook: 3.11.4\n"
     ]
    }
   ],
   "source": [
    "# Versão da Linguagem Python\n",
    "from platform import python_version\n",
    "print('Versão da Linguagem Python Usada Neste Jupyter Notebook:', python_version())"
   ]
  },
  {
   "cell_type": "code",
   "execution_count": 2,
   "id": "0a662ccf-4b65-460d-b1e5-94860b9e8268",
   "metadata": {},
   "outputs": [],
   "source": [
    "import pyspark\n",
    "from pyspark.sql import SparkSession\n",
    "from pyspark.sql import functions as F\n",
    "from pyspark.sql.functions import col, udf\n",
    "from pyspark.sql.types import BooleanType, IntegerType"
   ]
  },
  {
   "cell_type": "code",
   "execution_count": 3,
   "id": "3915d4db-247c-47da-91f3-d70a769db269",
   "metadata": {},
   "outputs": [
    {
     "ename": "ModuleNotFoundError",
     "evalue": "No module named 'langdetect'",
     "output_type": "error",
     "traceback": [
      "\u001b[1;31m---------------------------------------------------------------------------\u001b[0m",
      "\u001b[1;31mModuleNotFoundError\u001b[0m                       Traceback (most recent call last)",
      "Cell \u001b[1;32mIn[3], line 1\u001b[0m\n\u001b[1;32m----> 1\u001b[0m \u001b[38;5;28;01mfrom\u001b[39;00m \u001b[38;5;21;01mlangdetect\u001b[39;00m \u001b[38;5;28;01mimport\u001b[39;00m detect\n\u001b[0;32m      2\u001b[0m \u001b[38;5;28;01mfrom\u001b[39;00m \u001b[38;5;21;01mtextblob\u001b[39;00m \u001b[38;5;28;01mimport\u001b[39;00m TextBlob\n",
      "\u001b[1;31mModuleNotFoundError\u001b[0m: No module named 'langdetect'"
     ]
    }
   ],
   "source": [
    "from langdetect import detect\n",
    "from textblob import TextBlob"
   ]
  },
  {
   "cell_type": "code",
   "execution_count": 19,
   "id": "d7108ad3-19f1-45dc-8fde-34ac467ea61a",
   "metadata": {},
   "outputs": [],
   "source": [
    "spark = SparkSession.builder.appName(\"AnaliseSentimento\").getOrCreate()"
   ]
  },
  {
   "cell_type": "code",
   "execution_count": 20,
   "id": "f94647f7-83f9-41ef-bc6e-c74c0719215c",
   "metadata": {},
   "outputs": [],
   "source": [
    "# Carregue o CSV como um DataFrame\n",
    "df = spark.read.csv(\"chatgpt1.csv\", header=True, inferSchema=True)"
   ]
  },
  {
   "cell_type": "code",
   "execution_count": 21,
   "id": "f4309adb-34dc-45b0-9850-de454d6a9046",
   "metadata": {},
   "outputs": [
    {
     "name": "stdout",
     "output_type": "stream",
     "text": [
      "+----------------------------------------+-------------------+---------------------------+--------+---------+----+--------+----------+----------+------------+---------+----------+--------------+--------+------+-----+-----------+--------------+-------+-------------+\n",
      "|                                Datetime|           Tweet Id|                       Text|Username|Permalink|User|Outlinks|CountLinks|ReplyCount|RetweetCount|LikeCount|QuoteCount|ConversationId|Language|Source|Media|QuotedTweet|MentionedUsers|hashtag|hastag_counts|\n",
      "+----------------------------------------+-------------------+---------------------------+--------+---------+----+--------+----------+----------+------------+---------+----------+--------------+--------+------+-----+-----------+--------------+-------+-------------+\n",
      "|                    2023-01-22 13:44:...|1617156270871699456|ChatGPTで遊ぶの忘れてた！！|    NULL|     NULL|NULL|    NULL|      NULL|      NULL|        NULL|     NULL|      NULL|          NULL|    NULL|  NULL| NULL|       NULL|          NULL|   NULL|         NULL|\n",
      "|    書類作るコード書いてみてほしいのと、|               NULL|                       NULL|    NULL|     NULL|NULL|    NULL|      NULL|      NULL|        NULL|     NULL|      NULL|          NULL|    NULL|  NULL| NULL|       NULL|          NULL|   NULL|         NULL|\n",
      "|どこまで思考整理付き合ってくれるのかと、|               NULL|                       NULL|    NULL|     NULL|NULL|    NULL|      NULL|      NULL|        NULL|     NULL|      NULL|          NULL|    NULL|  NULL| NULL|       NULL|          NULL|   NULL|         NULL|\n",
      "|          ウミガメのスープやってみたい。|               NULL|                       NULL|    NULL|     NULL|NULL|    NULL|      NULL|      NULL|        NULL|     NULL|      NULL|          NULL|    NULL|  NULL| NULL|       NULL|          NULL|   NULL|         NULL|\n",
      "|                  あとは調べ物してくれ。|               NULL|                       NULL|    NULL|     NULL|NULL|    NULL|      NULL|      NULL|        NULL|     NULL|      NULL|          NULL|    NULL|  NULL| NULL|       NULL|          NULL|   NULL|         NULL|\n",
      "+----------------------------------------+-------------------+---------------------------+--------+---------+----+--------+----------+----------+------------+---------+----------+--------------+--------+------+-----+-----------+--------------+-------+-------------+\n",
      "only showing top 5 rows\n",
      "\n"
     ]
    }
   ],
   "source": [
    "df.show(5)"
   ]
  },
  {
   "cell_type": "code",
   "execution_count": 22,
   "id": "9a261366-0dbc-4b6d-8e15-3f647bf7aa6f",
   "metadata": {},
   "outputs": [
    {
     "data": {
      "text/plain": [
       "82129"
      ]
     },
     "execution_count": 22,
     "metadata": {},
     "output_type": "execute_result"
    }
   ],
   "source": [
    "df.count()"
   ]
  },
  {
   "cell_type": "code",
   "execution_count": 23,
   "id": "a17d9981-0d2a-43c8-96b4-362ac9f59f2e",
   "metadata": {},
   "outputs": [
    {
     "data": {
      "text/plain": [
       "['Datetime',\n",
       " 'Tweet Id',\n",
       " 'Text',\n",
       " 'Username',\n",
       " 'Permalink',\n",
       " 'User',\n",
       " 'Outlinks',\n",
       " 'CountLinks',\n",
       " 'ReplyCount',\n",
       " 'RetweetCount',\n",
       " 'LikeCount',\n",
       " 'QuoteCount',\n",
       " 'ConversationId',\n",
       " 'Language',\n",
       " 'Source',\n",
       " 'Media',\n",
       " 'QuotedTweet',\n",
       " 'MentionedUsers',\n",
       " 'hashtag',\n",
       " 'hastag_counts']"
      ]
     },
     "execution_count": 23,
     "metadata": {},
     "output_type": "execute_result"
    }
   ],
   "source": [
    "df.columns"
   ]
  },
  {
   "cell_type": "code",
   "execution_count": 24,
   "id": "2f9d34a4-6e3d-49ab-961f-056b76f78d3e",
   "metadata": {},
   "outputs": [],
   "source": [
    "df = df.select(\"Text\")"
   ]
  },
  {
   "cell_type": "code",
   "execution_count": 25,
   "id": "8dcfc9ff-7e33-4e9a-bb4a-f6076645c227",
   "metadata": {},
   "outputs": [
    {
     "name": "stdout",
     "output_type": "stream",
     "text": [
      "+---------------------------+\n",
      "|                       Text|\n",
      "+---------------------------+\n",
      "|ChatGPTで遊ぶの忘れてた！！|\n",
      "|                       NULL|\n",
      "|                       NULL|\n",
      "|                       NULL|\n",
      "|                       NULL|\n",
      "+---------------------------+\n",
      "only showing top 5 rows\n",
      "\n"
     ]
    }
   ],
   "source": [
    "df.show(5)"
   ]
  },
  {
   "cell_type": "code",
   "execution_count": 26,
   "id": "56db5888-294b-4726-a111-78d48907f58a",
   "metadata": {},
   "outputs": [],
   "source": [
    "df = df.dropna()"
   ]
  },
  {
   "cell_type": "code",
   "execution_count": 27,
   "id": "2ac9293f-7e3e-4293-9847-a94da9210565",
   "metadata": {},
   "outputs": [
    {
     "name": "stdout",
     "output_type": "stream",
     "text": [
      "+---------------------------+\n",
      "|                       Text|\n",
      "+---------------------------+\n",
      "|ChatGPTで遊ぶの忘れてた！！|\n",
      "|       https://twitter.c...|\n",
      "|       @AlexandrovnaIng ...|\n",
      "|       Schaut Euch an, w...|\n",
      "|       https://twitter.c...|\n",
      "+---------------------------+\n",
      "only showing top 5 rows\n",
      "\n"
     ]
    }
   ],
   "source": [
    "df.show(5)"
   ]
  },
  {
   "cell_type": "code",
   "execution_count": 28,
   "id": "c9eda679-cf70-44eb-a093-b1579190ae15",
   "metadata": {},
   "outputs": [],
   "source": [
    "def is_english(text):\n",
    "    try:\n",
    "        lang = detect(text)\n",
    "        print(lang)\n",
    "        return lang=='en'\n",
    "    except:\n",
    "        return False\n",
    "\n",
    "udf_is_english = udf(is_english, BooleanType())"
   ]
  },
  {
   "cell_type": "code",
   "execution_count": 29,
   "id": "a5d81e6e-da07-4b3a-8827-b3de72017aee",
   "metadata": {},
   "outputs": [],
   "source": [
    "df = df.withColumn(\"is_english\", udf_is_english(df.Text))"
   ]
  },
  {
   "cell_type": "code",
   "execution_count": 30,
   "id": "91e24d7a-9d77-4bab-8c05-7bb946f75017",
   "metadata": {},
   "outputs": [
    {
     "name": "stdout",
     "output_type": "stream",
     "text": [
      "+----------------------------+----------+\n",
      "|                        Text|is_english|\n",
      "+----------------------------+----------+\n",
      "| ChatGPTで遊ぶの忘れてた！！|     false|\n",
      "|        https://twitter.c...|     false|\n",
      "|        @AlexandrovnaIng ...|      true|\n",
      "|        Schaut Euch an, w...|     false|\n",
      "|        https://twitter.c...|     false|\n",
      "|        Bow down to chatG...|      true|\n",
      "|        Profilinde vatan,...|     false|\n",
      "|        ChatGPT’nin bilin...|     false|\n",
      "|        https://twitter.c...|     false|\n",
      "|        ChatGPT runs 10K ...|      true|\n",
      "|        @SWENGDAD There i...|      true|\n",
      "|        I created a ficti...|      true|\n",
      "|        https://twitter.c...|     false|\n",
      "|        It will look simi...|      true|\n",
      "|        If you ever playe...|      true|\n",
      "|        https://twitter.c...|     false|\n",
      "|        AI will initiate ...|      true|\n",
      "|        https://twitter.c...|     false|\n",
      "|最新コメント15件（01/22 2...|     false|\n",
      "|        https://twitter.c...|     false|\n",
      "+----------------------------+----------+\n",
      "only showing top 20 rows\n",
      "\n"
     ]
    }
   ],
   "source": [
    "df.show()"
   ]
  },
  {
   "cell_type": "code",
   "execution_count": 34,
   "id": "6278ec92-7086-4986-9876-9cbd0ab44f39",
   "metadata": {},
   "outputs": [],
   "source": [
    "df = df.where(df.is_english==True)"
   ]
  },
  {
   "cell_type": "code",
   "execution_count": 35,
   "id": "ea43424f-0864-42eb-a3b5-6aceeaa6ffed",
   "metadata": {},
   "outputs": [],
   "source": [
    "from textblob import TextBlob\n",
    "\n",
    "def analisar_sentimento(tweet):\n",
    "    blob = TextBlob(tweet)\n",
    "    polaridade = blob.sentiment.polarity\n",
    "    if polaridade > 0:\n",
    "        return 1\n",
    "    elif polaridade < 0:\n",
    "        return -1\n",
    "    return 0\n",
    "\n"
   ]
  },
  {
   "cell_type": "code",
   "execution_count": 37,
   "id": "487cbc11-7180-4a03-adeb-96e675edd838",
   "metadata": {},
   "outputs": [],
   "source": [
    "udf_analisar_sentimento = udf(analisar_sentimento, IntegerType())"
   ]
  },
  {
   "cell_type": "code",
   "execution_count": 38,
   "id": "d4e068e1-b846-41e5-804c-a7d7f6c56380",
   "metadata": {},
   "outputs": [],
   "source": [
    "df = df.withColumn('label', udf_analisar_sentimento(df.Text))"
   ]
  },
  {
   "cell_type": "code",
   "execution_count": 39,
   "id": "a65b6690-9f5a-41eb-bd85-1dd2a85eebba",
   "metadata": {},
   "outputs": [
    {
     "name": "stdout",
     "output_type": "stream",
     "text": [
      "+--------------------+----------+-----+\n",
      "|                Text|is_english|label|\n",
      "+--------------------+----------+-----+\n",
      "|@AlexandrovnaIng ...|      true|    0|\n",
      "|Bow down to chatG...|      true|   -1|\n",
      "|ChatGPT runs 10K ...|      true|    1|\n",
      "|@SWENGDAD There i...|      true|   -1|\n",
      "|I created a ficti...|      true|    0|\n",
      "|It will look simi...|      true|    1|\n",
      "|If you ever playe...|      true|   -1|\n",
      "|AI will initiate ...|      true|    1|\n",
      "|🤯 #ChatGPT write...|      true|    0|\n",
      "|Pay $42 per month...|      true|    0|\n",
      "|Your own AI knowl...|      true|   -1|\n",
      "|ChatGPT | write m...|      true|    0|\n",
      "|@Slipcatch @nickh...|      true|    0|\n",
      "|@paulgp Leverage ...|      true|    1|\n",
      "|@FrankDeya The an...|      true|   -1|\n",
      "|          chatgpt ☺️|      true|    0|\n",
      "|#Tech: Google is ...|      true|    0|\n",
      "|There goes the en...|      true|    0|\n",
      "|Problems of Pakis...|      true|    0|\n",
      "|\"The question is ...|      true|   -1|\n",
      "+--------------------+----------+-----+\n",
      "only showing top 20 rows\n",
      "\n"
     ]
    }
   ],
   "source": [
    "df.show()"
   ]
  },
  {
   "cell_type": "code",
   "execution_count": 41,
   "id": "9ef02735-0f6d-4817-a904-443d80ce7a99",
   "metadata": {},
   "outputs": [
    {
     "name": "stdout",
     "output_type": "stream",
     "text": [
      "+-----+-----+\n",
      "|label|count|\n",
      "+-----+-----+\n",
      "|   -1| 4593|\n",
      "|    1|12806|\n",
      "|    0|15986|\n",
      "+-----+-----+\n",
      "\n"
     ]
    }
   ],
   "source": [
    "df.groupBy('label').count().show()"
   ]
  },
  {
   "cell_type": "code",
   "execution_count": 42,
   "id": "4861ffe1-560c-446e-b748-cdd65184e623",
   "metadata": {},
   "outputs": [],
   "source": [
    "df.createOrReplaceTempView('tt')"
   ]
  },
  {
   "cell_type": "code",
   "execution_count": 61,
   "id": "b4e78e89-f924-4cc9-9608-f03188dc6ae8",
   "metadata": {},
   "outputs": [],
   "source": [
    "r = spark.sql('SELECT Text FROM tt WHERE label = -1').collect()"
   ]
  },
  {
   "cell_type": "code",
   "execution_count": 70,
   "id": "26745cec-51db-4cf6-8b7e-c730915d7ae8",
   "metadata": {},
   "outputs": [
    {
     "data": {
      "text/plain": [
       "'@ShiLLin_ViLLian ChatGPT is crazy been messing around with it a little 👀'"
      ]
     },
     "execution_count": 70,
     "metadata": {},
     "output_type": "execute_result"
    }
   ],
   "source": [
    "r[8][0]"
   ]
  }
 ],
 "metadata": {
  "kernelspec": {
   "display_name": "Python 3 (ipykernel)",
   "language": "python",
   "name": "python3"
  },
  "language_info": {
   "codemirror_mode": {
    "name": "ipython",
    "version": 3
   },
   "file_extension": ".py",
   "mimetype": "text/x-python",
   "name": "python",
   "nbconvert_exporter": "python",
   "pygments_lexer": "ipython3",
   "version": "3.11.4"
  }
 },
 "nbformat": 4,
 "nbformat_minor": 5
}
